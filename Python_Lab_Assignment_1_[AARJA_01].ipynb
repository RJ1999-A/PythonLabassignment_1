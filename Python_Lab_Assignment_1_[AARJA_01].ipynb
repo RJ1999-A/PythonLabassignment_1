{
  "nbformat": 4,
  "nbformat_minor": 5,
  "metadata": {
    "kernelspec": {
      "display_name": "Python 3",
      "language": "python",
      "name": "python3"
    },
    "language_info": {
      "codemirror_mode": {
        "name": "ipython",
        "version": 3
      },
      "file_extension": ".py",
      "mimetype": "text/x-python",
      "name": "python",
      "nbconvert_exporter": "python",
      "pygments_lexer": "ipython3",
      "version": "3.8.5"
    },
    "colab": {
      "name": "Python Lab Assignment-1 [AARJA-01].ipynb",
      "provenance": []
    }
  },
  "cells": [
    {
      "cell_type": "markdown",
      "metadata": {
        "id": "09b58076"
      },
      "source": [
        "<b>Q1. Create a program that asks the user to enter their name and their age. Print out a message addressed to them that tells them the year that they will turn 100 years old.</b>"
      ],
      "id": "09b58076"
    },
    {
      "cell_type": "code",
      "metadata": {
        "id": "auyWu9UoOc-T"
      },
      "source": [
        ""
      ],
      "id": "auyWu9UoOc-T",
      "execution_count": null,
      "outputs": []
    },
    {
      "cell_type": "code",
      "metadata": {
        "colab": {
          "base_uri": "https://localhost:8080/"
        },
        "id": "91660e6a",
        "outputId": "171fc92e-588e-4e3d-e821-fbfe48b3f2eb"
      },
      "source": [
        "from datetime import date\n",
        "\n",
        "name = input('Enter name: ')\n",
        "age = input('Enter age: ')\n",
        "\n",
        "year = date.today().year + 100 - int(age)\n",
        "\n",
        "message = name + ', you will turn 100 in the year ' + str(year)\n",
        "print(message)\n",
        "\n",
        "copies = int(input('Enter #copies: '))\n",
        "print((message+'\\n') * copies)"
      ],
      "id": "91660e6a",
      "execution_count": 1,
      "outputs": [
        {
          "output_type": "stream",
          "text": [
            "Enter name: AARJA\n",
            "Enter age: 22\n",
            "AARJA, you will turn 100 in the year 2099\n",
            "Enter #copies: 10\n",
            "AARJA, you will turn 100 in the year 2099\n",
            "AARJA, you will turn 100 in the year 2099\n",
            "AARJA, you will turn 100 in the year 2099\n",
            "AARJA, you will turn 100 in the year 2099\n",
            "AARJA, you will turn 100 in the year 2099\n",
            "AARJA, you will turn 100 in the year 2099\n",
            "AARJA, you will turn 100 in the year 2099\n",
            "AARJA, you will turn 100 in the year 2099\n",
            "AARJA, you will turn 100 in the year 2099\n",
            "AARJA, you will turn 100 in the year 2099\n",
            "\n"
          ],
          "name": "stdout"
        }
      ]
    },
    {
      "cell_type": "markdown",
      "metadata": {
        "id": "2ccb36f5"
      },
      "source": [
        "<b> Q2. Take a list, say for example this one:\n",
        "a = [1, 1, 2, 3, 5, 8, 13, 21, 34, 55, 89]\n",
        "and write a program that prints out all the elements of the list that are less than 5.</b>"
      ],
      "id": "2ccb36f5"
    },
    {
      "cell_type": "code",
      "metadata": {
        "colab": {
          "base_uri": "https://localhost:8080/"
        },
        "id": "a63adbc2",
        "outputId": "810301dd-bd11-4b71-d763-73b9a82e16c1"
      },
      "source": [
        "a = [1, 1, 2, 3, 5, 8, 13, 21, 34, 55, 89]\n",
        "\n",
        "a_mod = list(filter(lambda x : x < 5, a))\n",
        "print(a_mod)\n",
        "\n",
        "less = int(input('Enter a number for less than: '))\n",
        "\n",
        "a_mod = list(filter(lambda x : x < less, a))\n",
        "print(a_mod)"
      ],
      "id": "a63adbc2",
      "execution_count": 6,
      "outputs": [
        {
          "output_type": "stream",
          "text": [
            "[1, 1, 2, 3]\n",
            "Enter a number for less than: 55\n",
            "[1, 1, 2, 3, 5, 8, 13, 21, 34]\n"
          ],
          "name": "stdout"
        }
      ]
    },
    {
      "cell_type": "markdown",
      "metadata": {
        "id": "708bce89"
      },
      "source": [
        "<b> Q3. Write a program that asks the user how many Fibonacci numbers to generate and\n",
        "then generates them. Take this opportunity to think about how you can use functions.\n",
        "Make sure to ask the user to enter the number of numbers in the sequence to\n",
        "generate. </b>"
      ],
      "id": "708bce89"
    },
    {
      "cell_type": "code",
      "metadata": {
        "colab": {
          "base_uri": "https://localhost:8080/"
        },
        "id": "826b72b8",
        "outputId": "6bf7c59d-95e9-4ce4-b0f4-01b9844ac210"
      },
      "source": [
        "def fibbo(n):\n",
        "    return n if n < 2 else fibbo(n-1) + fibbo(n-2)\n",
        "\n",
        "limit = int(input('Enter limit of series: '))\n",
        "res = [print(' ', fibbo(i), end=' ') for i in range(limit)] "
      ],
      "id": "826b72b8",
      "execution_count": 3,
      "outputs": [
        {
          "output_type": "stream",
          "text": [
            "Enter limit of series: 10\n",
            "  0   1   1   2   3   5   8   13   21   34 "
          ],
          "name": "stdout"
        }
      ]
    },
    {
      "cell_type": "markdown",
      "metadata": {
        "id": "34f84541"
      },
      "source": [
        "<b>Q4. Write a program (function!) that takes a list and returns a new list that contains all the\n",
        "elements of the first list minus all the duplicates.</b>"
      ],
      "id": "34f84541"
    },
    {
      "cell_type": "code",
      "metadata": {
        "colab": {
          "base_uri": "https://localhost:8080/"
        },
        "id": "9db5a903",
        "outputId": "907087c5-c1be-4f8d-c718-44dd5919a98d"
      },
      "source": [
        "def duplicateRemovalByLoop(listt):\n",
        "    return [listt[i] for i, val in enumerate(sorted(listt)) if i+1!=len(listt) and listt[i]!=listt[i+1]]\n",
        "    \n",
        "def duplicateRemovalBySet(listt):\n",
        "    return list(set(listt))\n",
        "\n",
        "listt = list(map(int, input('Enter space seperated list: ').split(' ')))\n",
        "\n",
        "print(duplicateRemovalByLoop(listt))\n",
        "print(duplicateRemovalBySet(listt))"
      ],
      "id": "9db5a903",
      "execution_count": 4,
      "outputs": [
        {
          "output_type": "stream",
          "text": [
            "Enter space seperated list: 2 2 2 1 1 4 5 7 4 4\n",
            "[2, 1, 4, 5, 7]\n",
            "[1, 2, 4, 5, 7]\n"
          ],
          "name": "stdout"
        }
      ]
    },
    {
      "cell_type": "markdown",
      "metadata": {
        "id": "47906fe3"
      },
      "source": [
        "<b>Q5. Ask the user for a number and determine whether the number is prime or not.</b>"
      ],
      "id": "47906fe3"
    },
    {
      "cell_type": "code",
      "metadata": {
        "colab": {
          "base_uri": "https://localhost:8080/"
        },
        "id": "12683deb",
        "outputId": "5afa6492-047f-456d-ee00-e122d8db2182"
      },
      "source": [
        "def prime(num):\n",
        "    return all([(num % i) for i in range(2, int(num**0.5)+1)]) and num>1\n",
        "\n",
        "num = int(input('Enter a number: '))\n",
        "print('Prime: ', prime(num))"
      ],
      "id": "12683deb",
      "execution_count": 5,
      "outputs": [
        {
          "output_type": "stream",
          "text": [
            "Enter a number: 11\n",
            "Prime:  True\n"
          ],
          "name": "stdout"
        }
      ]
    }
  ]
}